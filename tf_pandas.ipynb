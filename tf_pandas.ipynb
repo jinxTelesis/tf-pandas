{
 "cells": [
  {
   "cell_type": "code",
   "execution_count": 2,
   "id": "16246708-eb0d-4d64-a6dd-23b3e085b1c5",
   "metadata": {},
   "outputs": [
    {
     "name": "stdout",
     "output_type": "stream",
     "text": [
      "these imports loaded\n"
     ]
    }
   ],
   "source": [
    "import numpy as np\n",
    "import pandas as pd\n",
    "import tensorflow as tf\n",
    "\n",
    "SHUFFLE_BUFFER = 500\n",
    "BATCH_SIZE = 2\n",
    "print(\"these imports loaded\")"
   ]
  },
  {
   "cell_type": "code",
   "execution_count": 3,
   "id": "65ab025a-c38a-4e65-ba62-8f858803401a",
   "metadata": {},
   "outputs": [],
   "source": [
    "csv_file = tf.keras.utils.get_file('heart.csv', 'https://storage.googleapis.com/download.tensorflow.org/data/heart.csv')"
   ]
  },
  {
   "cell_type": "code",
   "execution_count": 4,
   "id": "6708555b-3d0b-4057-a70d-a8e85fc2ef75",
   "metadata": {},
   "outputs": [],
   "source": [
    "df = pd.read_csv(csv_file)"
   ]
  },
  {
   "cell_type": "code",
   "execution_count": 5,
   "id": "d08aa3a7-e2f8-42b3-9199-47a9bf21fa3b",
   "metadata": {},
   "outputs": [
    {
     "data": {
      "text/html": [
       "<div>\n",
       "<style scoped>\n",
       "    .dataframe tbody tr th:only-of-type {\n",
       "        vertical-align: middle;\n",
       "    }\n",
       "\n",
       "    .dataframe tbody tr th {\n",
       "        vertical-align: top;\n",
       "    }\n",
       "\n",
       "    .dataframe thead th {\n",
       "        text-align: right;\n",
       "    }\n",
       "</style>\n",
       "<table border=\"1\" class=\"dataframe\">\n",
       "  <thead>\n",
       "    <tr style=\"text-align: right;\">\n",
       "      <th></th>\n",
       "      <th>age</th>\n",
       "      <th>sex</th>\n",
       "      <th>cp</th>\n",
       "      <th>trestbps</th>\n",
       "      <th>chol</th>\n",
       "      <th>fbs</th>\n",
       "      <th>restecg</th>\n",
       "      <th>thalach</th>\n",
       "      <th>exang</th>\n",
       "      <th>oldpeak</th>\n",
       "      <th>slope</th>\n",
       "      <th>ca</th>\n",
       "      <th>thal</th>\n",
       "      <th>target</th>\n",
       "    </tr>\n",
       "  </thead>\n",
       "  <tbody>\n",
       "    <tr>\n",
       "      <th>0</th>\n",
       "      <td>63</td>\n",
       "      <td>1</td>\n",
       "      <td>1</td>\n",
       "      <td>145</td>\n",
       "      <td>233</td>\n",
       "      <td>1</td>\n",
       "      <td>2</td>\n",
       "      <td>150</td>\n",
       "      <td>0</td>\n",
       "      <td>2.3</td>\n",
       "      <td>3</td>\n",
       "      <td>0</td>\n",
       "      <td>fixed</td>\n",
       "      <td>0</td>\n",
       "    </tr>\n",
       "    <tr>\n",
       "      <th>1</th>\n",
       "      <td>67</td>\n",
       "      <td>1</td>\n",
       "      <td>4</td>\n",
       "      <td>160</td>\n",
       "      <td>286</td>\n",
       "      <td>0</td>\n",
       "      <td>2</td>\n",
       "      <td>108</td>\n",
       "      <td>1</td>\n",
       "      <td>1.5</td>\n",
       "      <td>2</td>\n",
       "      <td>3</td>\n",
       "      <td>normal</td>\n",
       "      <td>1</td>\n",
       "    </tr>\n",
       "    <tr>\n",
       "      <th>2</th>\n",
       "      <td>67</td>\n",
       "      <td>1</td>\n",
       "      <td>4</td>\n",
       "      <td>120</td>\n",
       "      <td>229</td>\n",
       "      <td>0</td>\n",
       "      <td>2</td>\n",
       "      <td>129</td>\n",
       "      <td>1</td>\n",
       "      <td>2.6</td>\n",
       "      <td>2</td>\n",
       "      <td>2</td>\n",
       "      <td>reversible</td>\n",
       "      <td>0</td>\n",
       "    </tr>\n",
       "    <tr>\n",
       "      <th>3</th>\n",
       "      <td>37</td>\n",
       "      <td>1</td>\n",
       "      <td>3</td>\n",
       "      <td>130</td>\n",
       "      <td>250</td>\n",
       "      <td>0</td>\n",
       "      <td>0</td>\n",
       "      <td>187</td>\n",
       "      <td>0</td>\n",
       "      <td>3.5</td>\n",
       "      <td>3</td>\n",
       "      <td>0</td>\n",
       "      <td>normal</td>\n",
       "      <td>0</td>\n",
       "    </tr>\n",
       "    <tr>\n",
       "      <th>4</th>\n",
       "      <td>41</td>\n",
       "      <td>0</td>\n",
       "      <td>2</td>\n",
       "      <td>130</td>\n",
       "      <td>204</td>\n",
       "      <td>0</td>\n",
       "      <td>2</td>\n",
       "      <td>172</td>\n",
       "      <td>0</td>\n",
       "      <td>1.4</td>\n",
       "      <td>1</td>\n",
       "      <td>0</td>\n",
       "      <td>normal</td>\n",
       "      <td>0</td>\n",
       "    </tr>\n",
       "  </tbody>\n",
       "</table>\n",
       "</div>"
      ],
      "text/plain": [
       "   age  sex  cp  trestbps  chol  fbs  restecg  thalach  exang  oldpeak  slope  \\\n",
       "0   63    1   1       145   233    1        2      150      0      2.3      3   \n",
       "1   67    1   4       160   286    0        2      108      1      1.5      2   \n",
       "2   67    1   4       120   229    0        2      129      1      2.6      2   \n",
       "3   37    1   3       130   250    0        0      187      0      3.5      3   \n",
       "4   41    0   2       130   204    0        2      172      0      1.4      1   \n",
       "\n",
       "   ca        thal  target  \n",
       "0   0       fixed       0  \n",
       "1   3      normal       1  \n",
       "2   2  reversible       0  \n",
       "3   0      normal       0  \n",
       "4   0      normal       0  "
      ]
     },
     "execution_count": 5,
     "metadata": {},
     "output_type": "execute_result"
    }
   ],
   "source": [
    "df.head()"
   ]
  },
  {
   "cell_type": "code",
   "execution_count": 6,
   "id": "233ce200-8c94-4b4b-b0c1-048e9b8799df",
   "metadata": {},
   "outputs": [
    {
     "data": {
      "text/plain": [
       "age           int64\n",
       "sex           int64\n",
       "cp            int64\n",
       "trestbps      int64\n",
       "chol          int64\n",
       "fbs           int64\n",
       "restecg       int64\n",
       "thalach       int64\n",
       "exang         int64\n",
       "oldpeak     float64\n",
       "slope         int64\n",
       "ca            int64\n",
       "thal         object\n",
       "target        int64\n",
       "dtype: object"
      ]
     },
     "execution_count": 6,
     "metadata": {},
     "output_type": "execute_result"
    }
   ],
   "source": [
    "df.dtypes"
   ]
  },
  {
   "cell_type": "code",
   "execution_count": 7,
   "id": "71879ac6-50af-4aa8-862b-0dd08c5639fb",
   "metadata": {},
   "outputs": [],
   "source": [
    "target = df.pop('target')"
   ]
  },
  {
   "cell_type": "code",
   "execution_count": 8,
   "id": "ececcc1c-5715-4f20-94b3-ee89d9d0cea7",
   "metadata": {},
   "outputs": [
    {
     "data": {
      "text/html": [
       "<div>\n",
       "<style scoped>\n",
       "    .dataframe tbody tr th:only-of-type {\n",
       "        vertical-align: middle;\n",
       "    }\n",
       "\n",
       "    .dataframe tbody tr th {\n",
       "        vertical-align: top;\n",
       "    }\n",
       "\n",
       "    .dataframe thead th {\n",
       "        text-align: right;\n",
       "    }\n",
       "</style>\n",
       "<table border=\"1\" class=\"dataframe\">\n",
       "  <thead>\n",
       "    <tr style=\"text-align: right;\">\n",
       "      <th></th>\n",
       "      <th>age</th>\n",
       "      <th>thalach</th>\n",
       "      <th>trestbps</th>\n",
       "      <th>chol</th>\n",
       "      <th>oldpeak</th>\n",
       "    </tr>\n",
       "  </thead>\n",
       "  <tbody>\n",
       "    <tr>\n",
       "      <th>0</th>\n",
       "      <td>63</td>\n",
       "      <td>150</td>\n",
       "      <td>145</td>\n",
       "      <td>233</td>\n",
       "      <td>2.3</td>\n",
       "    </tr>\n",
       "    <tr>\n",
       "      <th>1</th>\n",
       "      <td>67</td>\n",
       "      <td>108</td>\n",
       "      <td>160</td>\n",
       "      <td>286</td>\n",
       "      <td>1.5</td>\n",
       "    </tr>\n",
       "    <tr>\n",
       "      <th>2</th>\n",
       "      <td>67</td>\n",
       "      <td>129</td>\n",
       "      <td>120</td>\n",
       "      <td>229</td>\n",
       "      <td>2.6</td>\n",
       "    </tr>\n",
       "    <tr>\n",
       "      <th>3</th>\n",
       "      <td>37</td>\n",
       "      <td>187</td>\n",
       "      <td>130</td>\n",
       "      <td>250</td>\n",
       "      <td>3.5</td>\n",
       "    </tr>\n",
       "    <tr>\n",
       "      <th>4</th>\n",
       "      <td>41</td>\n",
       "      <td>172</td>\n",
       "      <td>130</td>\n",
       "      <td>204</td>\n",
       "      <td>1.4</td>\n",
       "    </tr>\n",
       "  </tbody>\n",
       "</table>\n",
       "</div>"
      ],
      "text/plain": [
       "   age  thalach  trestbps  chol  oldpeak\n",
       "0   63      150       145   233      2.3\n",
       "1   67      108       160   286      1.5\n",
       "2   67      129       120   229      2.6\n",
       "3   37      187       130   250      3.5\n",
       "4   41      172       130   204      1.4"
      ]
     },
     "execution_count": 8,
     "metadata": {},
     "output_type": "execute_result"
    }
   ],
   "source": [
    "numeric_feature_names = ['age', 'thalach', 'trestbps',  'chol', 'oldpeak']\n",
    "numeric_features = df[numeric_feature_names]\n",
    "numeric_features.head()"
   ]
  },
  {
   "cell_type": "code",
   "execution_count": 9,
   "id": "934c36d3-76d2-47e1-a348-7dd992e9fe75",
   "metadata": {},
   "outputs": [
    {
     "data": {
      "text/plain": [
       "<tf.Tensor: shape=(303, 5), dtype=float64, numpy=\n",
       "array([[ 63. , 150. , 145. , 233. ,   2.3],\n",
       "       [ 67. , 108. , 160. , 286. ,   1.5],\n",
       "       [ 67. , 129. , 120. , 229. ,   2.6],\n",
       "       ...,\n",
       "       [ 65. , 127. , 135. , 254. ,   2.8],\n",
       "       [ 48. , 150. , 130. , 256. ,   0. ],\n",
       "       [ 63. , 154. , 150. , 407. ,   4. ]])>"
      ]
     },
     "execution_count": 9,
     "metadata": {},
     "output_type": "execute_result"
    }
   ],
   "source": [
    "tf.convert_to_tensor(numeric_features)"
   ]
  },
  {
   "cell_type": "code",
   "execution_count": 11,
   "id": "4970452a-9b8d-4744-9edf-2504013ca3d8",
   "metadata": {},
   "outputs": [],
   "source": [
    "normalizer = tf.keras.layers.Normalization(axis=-1)\n",
    "# this sets the normalization and the standard-deviation\n",
    "normalizer.adapt(np.array(numeric_features))"
   ]
  },
  {
   "cell_type": "code",
   "execution_count": 12,
   "id": "452ea8bd-f7d8-45e3-a63b-4b97e661373f",
   "metadata": {},
   "outputs": [
    {
     "data": {
      "text/plain": [
       "<tf.Tensor: shape=(3, 5), dtype=float32, numpy=\n",
       "array([[ 0.93384   ,  0.03480783,  0.74578166, -0.26008663,  1.0680453 ],\n",
       "       [ 1.3782114 , -1.7806157 ,  1.5923294 ,  0.75738776,  0.38022864],\n",
       "       [ 1.3782114 , -0.87290394, -0.6651312 , -0.33687717,  1.3259765 ]],\n",
       "      dtype=float32)>"
      ]
     },
     "execution_count": 12,
     "metadata": {},
     "output_type": "execute_result"
    }
   ],
   "source": [
    "normalizer(numeric_features.iloc[:3])"
   ]
  },
  {
   "cell_type": "code",
   "execution_count": 13,
   "id": "e3c9625a-cf2e-47f5-947f-f93b0bc8fbc0",
   "metadata": {},
   "outputs": [],
   "source": [
    "def get_basic_model():\n",
    "  model = tf.keras.Sequential([\n",
    "    normalizer,\n",
    "    tf.keras.layers.Dense(10, activation='relu'),\n",
    "    tf.keras.layers.Dense(10, activation='relu'),\n",
    "    tf.keras.layers.Dense(1)\n",
    "  ])\n",
    "\n",
    "  model.compile(optimizer='adam',\n",
    "                loss=tf.keras.losses.BinaryCrossentropy(from_logits=True),\n",
    "                metrics=['accuracy'])\n",
    "  return model"
   ]
  },
  {
   "cell_type": "code",
   "execution_count": 14,
   "id": "f974d9f5-2051-4feb-8a26-1d977bf1c1eb",
   "metadata": {},
   "outputs": [
    {
     "name": "stdout",
     "output_type": "stream",
     "text": [
      "Epoch 1/15\n",
      "\u001b[1m152/152\u001b[0m \u001b[32m━━━━━━━━━━━━━━━━━━━━\u001b[0m\u001b[37m\u001b[0m \u001b[1m1s\u001b[0m 958us/step - accuracy: 0.7327 - loss: 0.6233  \n",
      "Epoch 2/15\n",
      "\u001b[1m152/152\u001b[0m \u001b[32m━━━━━━━━━━━━━━━━━━━━\u001b[0m\u001b[37m\u001b[0m \u001b[1m0s\u001b[0m 969us/step - accuracy: 0.7261 - loss: 0.5477   \n",
      "Epoch 3/15\n",
      "\u001b[1m152/152\u001b[0m \u001b[32m━━━━━━━━━━━━━━━━━━━━\u001b[0m\u001b[37m\u001b[0m \u001b[1m0s\u001b[0m 941us/step - accuracy: 0.7228 - loss: 0.4972\n",
      "Epoch 4/15\n",
      "\u001b[1m152/152\u001b[0m \u001b[32m━━━━━━━━━━━━━━━━━━━━\u001b[0m\u001b[37m\u001b[0m \u001b[1m0s\u001b[0m 927us/step - accuracy: 0.7294 - loss: 0.4705   \n",
      "Epoch 5/15\n",
      "\u001b[1m152/152\u001b[0m \u001b[32m━━━━━━━━━━━━━━━━━━━━\u001b[0m\u001b[37m\u001b[0m \u001b[1m0s\u001b[0m 884us/step - accuracy: 0.7393 - loss: 0.4557\n",
      "Epoch 6/15\n",
      "\u001b[1m152/152\u001b[0m \u001b[32m━━━━━━━━━━━━━━━━━━━━\u001b[0m\u001b[37m\u001b[0m \u001b[1m0s\u001b[0m 939us/step - accuracy: 0.7525 - loss: 0.4448\n",
      "Epoch 7/15\n",
      "\u001b[1m152/152\u001b[0m \u001b[32m━━━━━━━━━━━━━━━━━━━━\u001b[0m\u001b[37m\u001b[0m \u001b[1m0s\u001b[0m 930us/step - accuracy: 0.7657 - loss: 0.4381\n",
      "Epoch 8/15\n",
      "\u001b[1m152/152\u001b[0m \u001b[32m━━━━━━━━━━━━━━━━━━━━\u001b[0m\u001b[37m\u001b[0m \u001b[1m0s\u001b[0m 953us/step - accuracy: 0.7789 - loss: 0.4327\n",
      "Epoch 9/15\n",
      "\u001b[1m152/152\u001b[0m \u001b[32m━━━━━━━━━━━━━━━━━━━━\u001b[0m\u001b[37m\u001b[0m \u001b[1m0s\u001b[0m 923us/step - accuracy: 0.7756 - loss: 0.4294\n",
      "Epoch 10/15\n",
      "\u001b[1m152/152\u001b[0m \u001b[32m━━━━━━━━━━━━━━━━━━━━\u001b[0m\u001b[37m\u001b[0m \u001b[1m0s\u001b[0m 936us/step - accuracy: 0.7822 - loss: 0.4269\n",
      "Epoch 11/15\n",
      "\u001b[1m152/152\u001b[0m \u001b[32m━━━━━━━━━━━━━━━━━━━━\u001b[0m\u001b[37m\u001b[0m \u001b[1m0s\u001b[0m 946us/step - accuracy: 0.7921 - loss: 0.4242\n",
      "Epoch 12/15\n",
      "\u001b[1m152/152\u001b[0m \u001b[32m━━━━━━━━━━━━━━━━━━━━\u001b[0m\u001b[37m\u001b[0m \u001b[1m0s\u001b[0m 919us/step - accuracy: 0.7888 - loss: 0.4219\n",
      "Epoch 13/15\n",
      "\u001b[1m152/152\u001b[0m \u001b[32m━━━━━━━━━━━━━━━━━━━━\u001b[0m\u001b[37m\u001b[0m \u001b[1m0s\u001b[0m 979us/step - accuracy: 0.7921 - loss: 0.4198\n",
      "Epoch 14/15\n",
      "\u001b[1m152/152\u001b[0m \u001b[32m━━━━━━━━━━━━━━━━━━━━\u001b[0m\u001b[37m\u001b[0m \u001b[1m0s\u001b[0m 1ms/step - accuracy: 0.7954 - loss: 0.4193 \n",
      "Epoch 15/15\n",
      "\u001b[1m152/152\u001b[0m \u001b[32m━━━━━━━━━━━━━━━━━━━━\u001b[0m\u001b[37m\u001b[0m \u001b[1m0s\u001b[0m 1ms/step - accuracy: 0.7855 - loss: 0.4164 \n"
     ]
    },
    {
     "data": {
      "text/plain": [
       "<keras.src.callbacks.history.History at 0x17e593dd2b0>"
      ]
     },
     "execution_count": 14,
     "metadata": {},
     "output_type": "execute_result"
    }
   ],
   "source": [
    "model = get_basic_model()\n",
    "model.fit(numeric_features, target, epochs=15, batch_size=BATCH_SIZE)"
   ]
  },
  {
   "cell_type": "code",
   "execution_count": 15,
   "id": "06e80730-4091-4002-9d53-2d5dcb2ce99c",
   "metadata": {},
   "outputs": [
    {
     "name": "stdout",
     "output_type": "stream",
     "text": [
      "(<tf.Tensor: shape=(5,), dtype=float64, numpy=array([ 63. , 150. , 145. , 233. ,   2.3])>, <tf.Tensor: shape=(), dtype=int64, numpy=0>)\n",
      "(<tf.Tensor: shape=(5,), dtype=float64, numpy=array([ 67. , 108. , 160. , 286. ,   1.5])>, <tf.Tensor: shape=(), dtype=int64, numpy=1>)\n",
      "(<tf.Tensor: shape=(5,), dtype=float64, numpy=array([ 67. , 129. , 120. , 229. ,   2.6])>, <tf.Tensor: shape=(), dtype=int64, numpy=0>)\n"
     ]
    }
   ],
   "source": [
    "numeric_dataset = tf.data.Dataset.from_tensor_slices((numeric_features, target))\n",
    "\n",
    "for row in numeric_dataset.take(3):\n",
    "  print(row)"
   ]
  },
  {
   "cell_type": "code",
   "execution_count": 16,
   "id": "ae2f9736-6511-47c3-be47-7184c8a15fc0",
   "metadata": {},
   "outputs": [
    {
     "name": "stdout",
     "output_type": "stream",
     "text": [
      "Epoch 1/15\n",
      "\u001b[1m152/152\u001b[0m \u001b[32m━━━━━━━━━━━━━━━━━━━━\u001b[0m\u001b[37m\u001b[0m \u001b[1m1s\u001b[0m 903us/step - accuracy: 0.6964 - loss: 0.7666  \n",
      "Epoch 2/15\n",
      "\u001b[1m152/152\u001b[0m \u001b[32m━━━━━━━━━━━━━━━━━━━━\u001b[0m\u001b[37m\u001b[0m \u001b[1m0s\u001b[0m 903us/step - accuracy: 0.7294 - loss: 0.6820\n",
      "Epoch 3/15\n",
      "\u001b[1m152/152\u001b[0m \u001b[32m━━━━━━━━━━━━━━━━━━━━\u001b[0m\u001b[37m\u001b[0m \u001b[1m0s\u001b[0m 850us/step - accuracy: 0.7294 - loss: 0.6486\n",
      "Epoch 4/15\n",
      "\u001b[1m152/152\u001b[0m \u001b[32m━━━━━━━━━━━━━━━━━━━━\u001b[0m\u001b[37m\u001b[0m \u001b[1m0s\u001b[0m 831us/step - accuracy: 0.7294 - loss: 0.6155\n",
      "Epoch 5/15\n",
      "\u001b[1m152/152\u001b[0m \u001b[32m━━━━━━━━━━━━━━━━━━━━\u001b[0m\u001b[37m\u001b[0m \u001b[1m0s\u001b[0m 807us/step - accuracy: 0.7327 - loss: 0.5762\n",
      "Epoch 6/15\n",
      "\u001b[1m152/152\u001b[0m \u001b[32m━━━━━━━━━━━━━━━━━━━━\u001b[0m\u001b[37m\u001b[0m \u001b[1m0s\u001b[0m 808us/step - accuracy: 0.7492 - loss: 0.5288\n",
      "Epoch 7/15\n",
      "\u001b[1m152/152\u001b[0m \u001b[32m━━━━━━━━━━━━━━━━━━━━\u001b[0m\u001b[37m\u001b[0m \u001b[1m0s\u001b[0m 832us/step - accuracy: 0.7624 - loss: 0.4819\n",
      "Epoch 8/15\n",
      "\u001b[1m152/152\u001b[0m \u001b[32m━━━━━━━━━━━━━━━━━━━━\u001b[0m\u001b[37m\u001b[0m \u001b[1m0s\u001b[0m 809us/step - accuracy: 0.7690 - loss: 0.4509\n",
      "Epoch 9/15\n",
      "\u001b[1m152/152\u001b[0m \u001b[32m━━━━━━━━━━━━━━━━━━━━\u001b[0m\u001b[37m\u001b[0m \u001b[1m0s\u001b[0m 829us/step - accuracy: 0.7888 - loss: 0.4386\n",
      "Epoch 10/15\n",
      "\u001b[1m152/152\u001b[0m \u001b[32m━━━━━━━━━━━━━━━━━━━━\u001b[0m\u001b[37m\u001b[0m \u001b[1m0s\u001b[0m 830us/step - accuracy: 0.7987 - loss: 0.4305\n",
      "Epoch 11/15\n",
      "\u001b[1m152/152\u001b[0m \u001b[32m━━━━━━━━━━━━━━━━━━━━\u001b[0m\u001b[37m\u001b[0m \u001b[1m0s\u001b[0m 873us/step - accuracy: 0.7921 - loss: 0.4263\n",
      "Epoch 12/15\n",
      "\u001b[1m152/152\u001b[0m \u001b[32m━━━━━━━━━━━━━━━━━━━━\u001b[0m\u001b[37m\u001b[0m \u001b[1m0s\u001b[0m 1ms/step - accuracy: 0.7921 - loss: 0.4239  \n",
      "Epoch 13/15\n",
      "\u001b[1m152/152\u001b[0m \u001b[32m━━━━━━━━━━━━━━━━━━━━\u001b[0m\u001b[37m\u001b[0m \u001b[1m0s\u001b[0m 914us/step - accuracy: 0.7954 - loss: 0.4218\n",
      "Epoch 14/15\n",
      "\u001b[1m152/152\u001b[0m \u001b[32m━━━━━━━━━━━━━━━━━━━━\u001b[0m\u001b[37m\u001b[0m \u001b[1m0s\u001b[0m 860us/step - accuracy: 0.7954 - loss: 0.4193\n",
      "Epoch 15/15\n",
      "\u001b[1m152/152\u001b[0m \u001b[32m━━━━━━━━━━━━━━━━━━━━\u001b[0m\u001b[37m\u001b[0m \u001b[1m0s\u001b[0m 905us/step - accuracy: 0.8020 - loss: 0.4172\n"
     ]
    },
    {
     "data": {
      "text/plain": [
       "<keras.src.callbacks.history.History at 0x17e593925d0>"
      ]
     },
     "execution_count": 16,
     "metadata": {},
     "output_type": "execute_result"
    }
   ],
   "source": [
    "numeric_batches = numeric_dataset.shuffle(1000).batch(BATCH_SIZE)\n",
    "\n",
    "model = get_basic_model()\n",
    "model.fit(numeric_batches, epochs=15)"
   ]
  },
  {
   "cell_type": "code",
   "execution_count": 17,
   "id": "1c7cd84c-c823-4f13-8043-1ed98e7b30e2",
   "metadata": {},
   "outputs": [],
   "source": [
    "numeric_features_dict = {key: value.to_numpy()[:, tf.newaxis] for key, value in dict(numeric_features).items()}\n",
    "target_array =  target.to_numpy()[:, tf.newaxis]"
   ]
  },
  {
   "cell_type": "code",
   "execution_count": 18,
   "id": "0facb096-79a0-4d09-95f2-8f3a766ab6b3",
   "metadata": {},
   "outputs": [],
   "source": [
    "numeric_dict_ds = tf.data.Dataset.from_tensor_slices((numeric_features_dict , target_array))"
   ]
  },
  {
   "cell_type": "code",
   "execution_count": 19,
   "id": "c47b5ad1-31f5-4f8c-8903-b64e0bc5c78d",
   "metadata": {},
   "outputs": [
    {
     "data": {
      "text/plain": [
       "5"
      ]
     },
     "execution_count": 19,
     "metadata": {},
     "output_type": "execute_result"
    }
   ],
   "source": [
    "len(numeric_features_dict)"
   ]
  },
  {
   "cell_type": "code",
   "execution_count": 20,
   "id": "ddf5aa13-f879-47fc-bd43-c0527eb39a1f",
   "metadata": {},
   "outputs": [
    {
     "name": "stdout",
     "output_type": "stream",
     "text": [
      "({'age': <tf.Tensor: shape=(1,), dtype=int64, numpy=array([63])>, 'thalach': <tf.Tensor: shape=(1,), dtype=int64, numpy=array([150])>, 'trestbps': <tf.Tensor: shape=(1,), dtype=int64, numpy=array([145])>, 'chol': <tf.Tensor: shape=(1,), dtype=int64, numpy=array([233])>, 'oldpeak': <tf.Tensor: shape=(1,), dtype=float64, numpy=array([2.3])>}, <tf.Tensor: shape=(1,), dtype=int64, numpy=array([0])>)\n",
      "({'age': <tf.Tensor: shape=(1,), dtype=int64, numpy=array([67])>, 'thalach': <tf.Tensor: shape=(1,), dtype=int64, numpy=array([108])>, 'trestbps': <tf.Tensor: shape=(1,), dtype=int64, numpy=array([160])>, 'chol': <tf.Tensor: shape=(1,), dtype=int64, numpy=array([286])>, 'oldpeak': <tf.Tensor: shape=(1,), dtype=float64, numpy=array([1.5])>}, <tf.Tensor: shape=(1,), dtype=int64, numpy=array([1])>)\n",
      "({'age': <tf.Tensor: shape=(1,), dtype=int64, numpy=array([67])>, 'thalach': <tf.Tensor: shape=(1,), dtype=int64, numpy=array([129])>, 'trestbps': <tf.Tensor: shape=(1,), dtype=int64, numpy=array([120])>, 'chol': <tf.Tensor: shape=(1,), dtype=int64, numpy=array([229])>, 'oldpeak': <tf.Tensor: shape=(1,), dtype=float64, numpy=array([2.6])>}, <tf.Tensor: shape=(1,), dtype=int64, numpy=array([0])>)\n"
     ]
    }
   ],
   "source": [
    "for row in numeric_dict_ds.take(3):\n",
    "  print(row)"
   ]
  },
  {
   "cell_type": "code",
   "execution_count": 21,
   "id": "22a226df-4d3b-4dd5-aab7-e6fc3084fba3",
   "metadata": {},
   "outputs": [],
   "source": [
    "class MyModel(tf.keras.Model):\n",
    "  def __init__(self):\n",
    "    # Create all the internal layers in init.\n",
    "    super().__init__()\n",
    "\n",
    "    self.normalizer = tf.keras.layers.Normalization(axis=-1)\n",
    "\n",
    "    self.seq = tf.keras.Sequential([\n",
    "      self.normalizer,\n",
    "      tf.keras.layers.Dense(10, activation='relu'),\n",
    "      tf.keras.layers.Dense(10, activation='relu'),\n",
    "      tf.keras.layers.Dense(1)\n",
    "    ])\n",
    "\n",
    "    self.concat = tf.keras.layers.Concatenate(axis=1)\n",
    "\n",
    "  def _stack(self, input_dict):\n",
    "    values = []\n",
    "    for key, value in sorted(input_dict.items()):\n",
    "      values.append(value)\n",
    "\n",
    "    return self.concat(values)\n",
    "\n",
    "  def adapt(self, inputs):\n",
    "    # Stack the inputs and `adapt` the normalization layer.\n",
    "    inputs = self._stack(inputs)\n",
    "    self.normalizer.adapt(inputs)\n",
    "\n",
    "  def call(self, inputs):\n",
    "    # Stack the inputs\n",
    "    inputs = self._stack(inputs)\n",
    "    # Run them through all the layers.\n",
    "    result = self.seq(inputs)\n",
    "\n",
    "    return result\n",
    "\n",
    "model = MyModel()\n",
    "\n",
    "model.adapt(numeric_features_dict)\n",
    "\n",
    "model.compile(optimizer='adam',\n",
    "              loss=tf.keras.losses.BinaryCrossentropy(from_logits=True),\n",
    "              metrics=['accuracy'],\n",
    "              run_eagerly=True)"
   ]
  },
  {
   "cell_type": "code",
   "execution_count": 22,
   "id": "4b1b49f0-9e42-4b63-9c90-a25397176ffd",
   "metadata": {},
   "outputs": [
    {
     "name": "stdout",
     "output_type": "stream",
     "text": [
      "Epoch 1/5\n",
      "\u001b[1m152/152\u001b[0m \u001b[32m━━━━━━━━━━━━━━━━━━━━\u001b[0m\u001b[37m\u001b[0m \u001b[1m4s\u001b[0m 24ms/step - accuracy: 0.7063 - loss: 0.7161\n",
      "Epoch 2/5\n",
      "\u001b[1m152/152\u001b[0m \u001b[32m━━━━━━━━━━━━━━━━━━━━\u001b[0m\u001b[37m\u001b[0m \u001b[1m4s\u001b[0m 23ms/step - accuracy: 0.7294 - loss: 0.5943\n",
      "Epoch 3/5\n",
      "\u001b[1m152/152\u001b[0m \u001b[32m━━━━━━━━━━━━━━━━━━━━\u001b[0m\u001b[37m\u001b[0m \u001b[1m4s\u001b[0m 23ms/step - accuracy: 0.7327 - loss: 0.5113\n",
      "Epoch 4/5\n",
      "\u001b[1m152/152\u001b[0m \u001b[32m━━━━━━━━━━━━━━━━━━━━\u001b[0m\u001b[37m\u001b[0m \u001b[1m4s\u001b[0m 23ms/step - accuracy: 0.7591 - loss: 0.4706\n",
      "Epoch 5/5\n",
      "\u001b[1m152/152\u001b[0m \u001b[32m━━━━━━━━━━━━━━━━━━━━\u001b[0m\u001b[37m\u001b[0m \u001b[1m4s\u001b[0m 23ms/step - accuracy: 0.7789 - loss: 0.4479\n"
     ]
    },
    {
     "data": {
      "text/plain": [
       "<keras.src.callbacks.history.History at 0x17e5a759810>"
      ]
     },
     "execution_count": 22,
     "metadata": {},
     "output_type": "execute_result"
    }
   ],
   "source": [
    "model.fit(numeric_features_dict, target_array, epochs=5, batch_size=BATCH_SIZE)"
   ]
  },
  {
   "cell_type": "code",
   "execution_count": 23,
   "id": "374351e1-d569-41af-b3f1-0f53db306910",
   "metadata": {},
   "outputs": [
    {
     "name": "stdout",
     "output_type": "stream",
     "text": [
      "\u001b[1m1/1\u001b[0m \u001b[32m━━━━━━━━━━━━━━━━━━━━\u001b[0m\u001b[37m\u001b[0m \u001b[1m0s\u001b[0m 37ms/step\n"
     ]
    },
    {
     "data": {
      "text/plain": [
       "array([[0.02513419],\n",
       "       [0.02279492],\n",
       "       [0.08728836]], dtype=float32)"
      ]
     },
     "execution_count": 23,
     "metadata": {},
     "output_type": "execute_result"
    }
   ],
   "source": [
    "model.predict(dict(numeric_features.iloc[:3]))"
   ]
  },
  {
   "cell_type": "code",
   "execution_count": 24,
   "id": "36d18f6c-05ce-485f-868c-66ffeb523d7b",
   "metadata": {},
   "outputs": [],
   "source": [
    "inputs = {}\n",
    "for name, column in numeric_features.items():\n",
    "  inputs[name] = tf.keras.Input(\n",
    "      shape=(1,), name=name, dtype=tf.float32)"
   ]
  },
  {
   "cell_type": "code",
   "execution_count": 25,
   "id": "c156f2a6-94ee-4133-917e-dde992a1b8d4",
   "metadata": {},
   "outputs": [
    {
     "data": {
      "text/plain": [
       "{'age': <KerasTensor shape=(None, 1), dtype=float32, sparse=False, ragged=False, name=age>,\n",
       " 'thalach': <KerasTensor shape=(None, 1), dtype=float32, sparse=False, ragged=False, name=thalach>,\n",
       " 'trestbps': <KerasTensor shape=(None, 1), dtype=float32, sparse=False, ragged=False, name=trestbps>,\n",
       " 'chol': <KerasTensor shape=(None, 1), dtype=float32, sparse=False, ragged=False, name=chol>,\n",
       " 'oldpeak': <KerasTensor shape=(None, 1), dtype=float32, sparse=False, ragged=False, name=oldpeak>}"
      ]
     },
     "execution_count": 25,
     "metadata": {},
     "output_type": "execute_result"
    }
   ],
   "source": [
    "inputs"
   ]
  },
  {
   "cell_type": "code",
   "execution_count": 26,
   "id": "0cb6b145-6f76-433f-93cc-594eba12bbed",
   "metadata": {},
   "outputs": [],
   "source": [
    "xs = [value for key, value in sorted(inputs.items())]"
   ]
  },
  {
   "cell_type": "code",
   "execution_count": 27,
   "id": "ed01f9d1-263b-4af3-9d06-5c72a63b0db0",
   "metadata": {},
   "outputs": [],
   "source": [
    "concat = tf.keras.layers.Concatenate(axis=1)\n",
    "x = concat(xs)"
   ]
  },
  {
   "cell_type": "code",
   "execution_count": 28,
   "id": "3f8216b9-4096-4936-8cfc-884ceda54fbd",
   "metadata": {},
   "outputs": [],
   "source": [
    "normalizer = tf.keras.layers.Normalization(axis=-1)\n",
    "normalizer.adapt(np.concatenate([value for key, value in sorted(numeric_features_dict.items())], axis=1))"
   ]
  },
  {
   "cell_type": "code",
   "execution_count": 29,
   "id": "6c329bde-a404-434d-a2ea-2821e7a947c3",
   "metadata": {},
   "outputs": [],
   "source": [
    "x = normalizer(x)\n",
    "x = tf.keras.layers.Dense(10, activation='relu')(x)\n",
    "x = tf.keras.layers.Dense(10, activation='relu')(x)\n",
    "x = tf.keras.layers.Dense(1)(x)\n",
    "\n",
    "model = tf.keras.Model(inputs, x)\n",
    "\n",
    "model.compile(optimizer='adam',\n",
    "              loss=tf.keras.losses.BinaryCrossentropy(from_logits=True),\n",
    "              metrics=['accuracy'],\n",
    "              run_eagerly=True)"
   ]
  },
  {
   "cell_type": "code",
   "execution_count": 30,
   "id": "4fd0d791-f10e-4c2c-aaf2-95d96f50bc9a",
   "metadata": {},
   "outputs": [
    {
     "name": "stdout",
     "output_type": "stream",
     "text": [
      "You must install pydot (`pip install pydot`) for `plot_model` to work.\n"
     ]
    }
   ],
   "source": [
    "tf.keras.utils.plot_model(model, rankdir=\"LR\", show_shapes=True,  show_layer_names=True)"
   ]
  },
  {
   "cell_type": "code",
   "execution_count": 31,
   "id": "56f15f25-febc-4fdd-8bdf-65334a52bbee",
   "metadata": {},
   "outputs": [
    {
     "name": "stdout",
     "output_type": "stream",
     "text": [
      "Epoch 1/5\n",
      "\u001b[1m152/152\u001b[0m \u001b[32m━━━━━━━━━━━━━━━━━━━━\u001b[0m\u001b[37m\u001b[0m \u001b[1m4s\u001b[0m 25ms/step - accuracy: 0.6832 - loss: 0.7002\n",
      "Epoch 2/5\n",
      "\u001b[1m152/152\u001b[0m \u001b[32m━━━━━━━━━━━━━━━━━━━━\u001b[0m\u001b[37m\u001b[0m \u001b[1m4s\u001b[0m 24ms/step - accuracy: 0.7426 - loss: 0.5394\n",
      "Epoch 3/5\n",
      "\u001b[1m152/152\u001b[0m \u001b[32m━━━━━━━━━━━━━━━━━━━━\u001b[0m\u001b[37m\u001b[0m \u001b[1m4s\u001b[0m 24ms/step - accuracy: 0.7525 - loss: 0.4779\n",
      "Epoch 4/5\n",
      "\u001b[1m152/152\u001b[0m \u001b[32m━━━━━━━━━━━━━━━━━━━━\u001b[0m\u001b[37m\u001b[0m \u001b[1m4s\u001b[0m 24ms/step - accuracy: 0.7591 - loss: 0.4500\n",
      "Epoch 5/5\n",
      "\u001b[1m152/152\u001b[0m \u001b[32m━━━━━━━━━━━━━━━━━━━━\u001b[0m\u001b[37m\u001b[0m \u001b[1m4s\u001b[0m 25ms/step - accuracy: 0.7855 - loss: 0.4357\n"
     ]
    },
    {
     "data": {
      "text/plain": [
       "<keras.src.callbacks.history.History at 0x17e5a788e90>"
      ]
     },
     "execution_count": 31,
     "metadata": {},
     "output_type": "execute_result"
    }
   ],
   "source": [
    "model.fit(numeric_features_dict, target, epochs=5, batch_size=BATCH_SIZE)"
   ]
  },
  {
   "cell_type": "code",
   "execution_count": 32,
   "id": "c0fd364c-6e1b-49f2-bf40-eded0a7915f0",
   "metadata": {},
   "outputs": [
    {
     "name": "stdout",
     "output_type": "stream",
     "text": [
      "Epoch 1/5\n",
      "\u001b[1m152/152\u001b[0m \u001b[32m━━━━━━━━━━━━━━━━━━━━\u001b[0m\u001b[37m\u001b[0m \u001b[1m4s\u001b[0m 24ms/step - accuracy: 0.7987 - loss: 0.4292\n",
      "Epoch 2/5\n",
      "\u001b[1m152/152\u001b[0m \u001b[32m━━━━━━━━━━━━━━━━━━━━\u001b[0m\u001b[37m\u001b[0m \u001b[1m4s\u001b[0m 24ms/step - accuracy: 0.7855 - loss: 0.4268\n",
      "Epoch 3/5\n",
      "\u001b[1m152/152\u001b[0m \u001b[32m━━━━━━━━━━━━━━━━━━━━\u001b[0m\u001b[37m\u001b[0m \u001b[1m4s\u001b[0m 24ms/step - accuracy: 0.7954 - loss: 0.4240\n",
      "Epoch 4/5\n",
      "\u001b[1m152/152\u001b[0m \u001b[32m━━━━━━━━━━━━━━━━━━━━\u001b[0m\u001b[37m\u001b[0m \u001b[1m4s\u001b[0m 23ms/step - accuracy: 0.7822 - loss: 0.4233\n",
      "Epoch 5/5\n",
      "\u001b[1m152/152\u001b[0m \u001b[32m━━━━━━━━━━━━━━━━━━━━\u001b[0m\u001b[37m\u001b[0m \u001b[1m4s\u001b[0m 23ms/step - accuracy: 0.7855 - loss: 0.4197\n"
     ]
    },
    {
     "data": {
      "text/plain": [
       "<keras.src.callbacks.history.History at 0x17e59372d70>"
      ]
     },
     "execution_count": 32,
     "metadata": {},
     "output_type": "execute_result"
    }
   ],
   "source": [
    "numeric_dict_batches = numeric_dict_ds.shuffle(SHUFFLE_BUFFER).batch(BATCH_SIZE)\n",
    "model.fit(numeric_dict_batches, epochs=5)"
   ]
  },
  {
   "cell_type": "code",
   "execution_count": 35,
   "id": "dc1256b2-2b39-49f9-9b58-7f4a6032eed8",
   "metadata": {},
   "outputs": [],
   "source": [
    "binary_feature_names = ['sex', 'fbs', 'exang']\n",
    "categorical_feature_names = ['cp', 'restecg', 'slope', 'thal', 'ca']\n",
    "\n",
    "inputs = {}\n",
    "for name, column in df.items():\n",
    "  if type(column[0]) == str:\n",
    "    dtype = tf.string\n",
    "  elif (name in categorical_feature_names or\n",
    "        name in binary_feature_names):\n",
    "    dtype = tf.int64\n",
    "  else:\n",
    "    dtype = tf.float32\n",
    "\n",
    "  inputs[name] = tf.keras.Input(shape=(1,), name=name, dtype=dtype)"
   ]
  },
  {
   "cell_type": "code",
   "execution_count": 36,
   "id": "3da93016-7bae-4219-ae6b-0ee554fd84f9",
   "metadata": {},
   "outputs": [
    {
     "data": {
      "text/plain": [
       "{'age': <KerasTensor shape=(None, 1), dtype=float32, sparse=False, ragged=False, name=age>,\n",
       " 'sex': <KerasTensor shape=(None, 1), dtype=int64, sparse=False, ragged=False, name=sex>,\n",
       " 'cp': <KerasTensor shape=(None, 1), dtype=int64, sparse=False, ragged=False, name=cp>,\n",
       " 'trestbps': <KerasTensor shape=(None, 1), dtype=float32, sparse=False, ragged=False, name=trestbps>,\n",
       " 'chol': <KerasTensor shape=(None, 1), dtype=float32, sparse=False, ragged=False, name=chol>,\n",
       " 'fbs': <KerasTensor shape=(None, 1), dtype=int64, sparse=False, ragged=False, name=fbs>,\n",
       " 'restecg': <KerasTensor shape=(None, 1), dtype=int64, sparse=False, ragged=False, name=restecg>,\n",
       " 'thalach': <KerasTensor shape=(None, 1), dtype=float32, sparse=False, ragged=False, name=thalach>,\n",
       " 'exang': <KerasTensor shape=(None, 1), dtype=int64, sparse=False, ragged=False, name=exang>,\n",
       " 'oldpeak': <KerasTensor shape=(None, 1), dtype=float32, sparse=False, ragged=False, name=oldpeak>,\n",
       " 'slope': <KerasTensor shape=(None, 1), dtype=int64, sparse=False, ragged=False, name=slope>,\n",
       " 'ca': <KerasTensor shape=(None, 1), dtype=int64, sparse=False, ragged=False, name=ca>,\n",
       " 'thal': <KerasTensor shape=(None, 1), dtype=string, sparse=False, ragged=False, name=thal>}"
      ]
     },
     "execution_count": 36,
     "metadata": {},
     "output_type": "execute_result"
    }
   ],
   "source": [
    "inputs"
   ]
  },
  {
   "cell_type": "code",
   "execution_count": 37,
   "id": "f26f21bc-602b-4a0f-bfda-17d4d62e31a4",
   "metadata": {},
   "outputs": [
    {
     "data": {
      "text/plain": [
       "[<KerasTensor shape=(None, 1), dtype=int64, sparse=False, ragged=False, name=sex>,\n",
       " <KerasTensor shape=(None, 1), dtype=int64, sparse=False, ragged=False, name=fbs>,\n",
       " <KerasTensor shape=(None, 1), dtype=int64, sparse=False, ragged=False, name=exang>]"
      ]
     },
     "execution_count": 37,
     "metadata": {},
     "output_type": "execute_result"
    }
   ],
   "source": [
    "# binary inputs \n",
    "preprocessed = []\n",
    "\n",
    "for name in binary_feature_names:\n",
    "  inp = inputs[name]\n",
    "  preprocessed.append(inp)\n",
    "\n",
    "preprocessed"
   ]
  },
  {
   "cell_type": "code",
   "execution_count": 38,
   "id": "aa4e3e6d-1c76-4f2e-8662-fd0ae6838bf2",
   "metadata": {},
   "outputs": [],
   "source": [
    "normalizer = tf.keras.layers.Normalization(axis=-1)\n",
    "normalizer.adapt(np.concatenate([value for key, value in sorted(numeric_features_dict.items())], axis=1))"
   ]
  },
  {
   "cell_type": "code",
   "execution_count": 39,
   "id": "d10004ef-4bf4-4921-934a-a1b71ed5811b",
   "metadata": {},
   "outputs": [
    {
     "data": {
      "text/plain": [
       "[<KerasTensor shape=(None, 1), dtype=int64, sparse=False, ragged=False, name=sex>,\n",
       " <KerasTensor shape=(None, 1), dtype=int64, sparse=False, ragged=False, name=fbs>,\n",
       " <KerasTensor shape=(None, 1), dtype=int64, sparse=False, ragged=False, name=exang>,\n",
       " <KerasTensor shape=(None, 5), dtype=float32, sparse=False, ragged=False, name=keras_tensor_22>]"
      ]
     },
     "execution_count": 39,
     "metadata": {},
     "output_type": "execute_result"
    }
   ],
   "source": [
    "numeric_inputs = []\n",
    "for name in numeric_feature_names:\n",
    "  numeric_inputs.append(inputs[name])\n",
    "\n",
    "numeric_inputs = tf.keras.layers.Concatenate(axis=-1)(numeric_inputs)\n",
    "numeric_normalized = normalizer(numeric_inputs)\n",
    "\n",
    "preprocessed.append(numeric_normalized)\n",
    "\n",
    "preprocessed"
   ]
  },
  {
   "cell_type": "code",
   "execution_count": 40,
   "id": "9cb7db2c-fe10-4d39-8553-ce9fcc2cdd7a",
   "metadata": {},
   "outputs": [
    {
     "data": {
      "text/plain": [
       "<tf.Tensor: shape=(5, 4), dtype=int64, numpy=\n",
       "array([[0, 0, 0, 1],\n",
       "       [0, 1, 0, 0],\n",
       "       [0, 1, 0, 0],\n",
       "       [0, 0, 1, 0],\n",
       "       [1, 0, 0, 0]])>"
      ]
     },
     "execution_count": 40,
     "metadata": {},
     "output_type": "execute_result"
    }
   ],
   "source": [
    "# not numeric data, thus convert to one-hot encoding\n",
    "vocab = ['a','b','c']\n",
    "lookup = tf.keras.layers.StringLookup(vocabulary=vocab, output_mode='one_hot')\n",
    "lookup(['c','a','a','b','zzz'])"
   ]
  },
  {
   "cell_type": "code",
   "execution_count": 41,
   "id": "4389cb6a-0ec4-4360-9af3-d47cba61fc2d",
   "metadata": {},
   "outputs": [
    {
     "data": {
      "text/plain": [
       "<tf.Tensor: shape=(3, 5), dtype=int64, numpy=\n",
       "array([[1, 0, 0, 0, 0],\n",
       "       [0, 0, 1, 0, 0],\n",
       "       [0, 1, 0, 0, 0]])>"
      ]
     },
     "execution_count": 41,
     "metadata": {},
     "output_type": "execute_result"
    }
   ],
   "source": [
    "vocab = [1,4,7,99]\n",
    "lookup = tf.keras.layers.IntegerLookup(vocabulary=vocab, output_mode='one_hot')\n",
    "\n",
    "lookup([-1,4,1])"
   ]
  },
  {
   "cell_type": "code",
   "execution_count": 42,
   "id": "63229b53-72f5-408c-a11f-903e06dbee84",
   "metadata": {},
   "outputs": [
    {
     "name": "stdout",
     "output_type": "stream",
     "text": [
      "name: cp\n",
      "vocab: [0, 1, 2, 3, 4]\n",
      "\n",
      "name: restecg\n",
      "vocab: [0, 1, 2]\n",
      "\n",
      "name: slope\n",
      "vocab: [1, 2, 3]\n",
      "\n",
      "name: thal\n",
      "vocab: ['1', '2', 'fixed', 'normal', 'reversible']\n",
      "\n",
      "name: ca\n",
      "vocab: [0, 1, 2, 3]\n",
      "\n"
     ]
    }
   ],
   "source": [
    "for name in categorical_feature_names:\n",
    "  vocab = sorted(set(df[name]))\n",
    "  print(f'name: {name}')\n",
    "  print(f'vocab: {vocab}\\n')\n",
    "\n",
    "  if type(vocab[0]) is str:\n",
    "    lookup = tf.keras.layers.StringLookup(vocabulary=vocab, output_mode='one_hot')\n",
    "  else:\n",
    "    lookup = tf.keras.layers.IntegerLookup(vocabulary=vocab, output_mode='one_hot')\n",
    "\n",
    "  x = inputs[name]\n",
    "  x = lookup(x)\n",
    "  preprocessed.append(x)"
   ]
  },
  {
   "cell_type": "code",
   "execution_count": 43,
   "id": "1daac5a7-9c3c-414f-ba99-31a6d9c6deb7",
   "metadata": {},
   "outputs": [
    {
     "data": {
      "text/plain": [
       "[<KerasTensor shape=(None, 1), dtype=int64, sparse=False, ragged=False, name=sex>,\n",
       " <KerasTensor shape=(None, 1), dtype=int64, sparse=False, ragged=False, name=fbs>,\n",
       " <KerasTensor shape=(None, 1), dtype=int64, sparse=False, ragged=False, name=exang>,\n",
       " <KerasTensor shape=(None, 5), dtype=float32, sparse=False, ragged=False, name=keras_tensor_22>,\n",
       " <KerasTensor shape=(None, 6), dtype=float32, sparse=False, ragged=False, name=keras_tensor_23>,\n",
       " <KerasTensor shape=(None, 4), dtype=float32, sparse=False, ragged=False, name=keras_tensor_24>,\n",
       " <KerasTensor shape=(None, 4), dtype=float32, sparse=False, ragged=False, name=keras_tensor_25>,\n",
       " <KerasTensor shape=(None, 6), dtype=float32, sparse=False, ragged=False, name=keras_tensor_26>,\n",
       " <KerasTensor shape=(None, 5), dtype=float32, sparse=False, ragged=False, name=keras_tensor_27>]"
      ]
     },
     "execution_count": 43,
     "metadata": {},
     "output_type": "execute_result"
    }
   ],
   "source": [
    "preprocessed"
   ]
  },
  {
   "cell_type": "code",
   "execution_count": 44,
   "id": "e6fc891e-9207-4c4e-9dc5-adf0d9ddf5ae",
   "metadata": {},
   "outputs": [
    {
     "data": {
      "text/plain": [
       "<KerasTensor shape=(None, 33), dtype=float32, sparse=False, ragged=False, name=keras_tensor_28>"
      ]
     },
     "execution_count": 44,
     "metadata": {},
     "output_type": "execute_result"
    }
   ],
   "source": [
    "preprocessed_result = tf.keras.layers.Concatenate(axis=1)(preprocessed)\n",
    "preprocessed_result"
   ]
  },
  {
   "cell_type": "code",
   "execution_count": 45,
   "id": "ac2e697b-b823-45f4-bace-eacd62144c9b",
   "metadata": {},
   "outputs": [],
   "source": [
    "preprocessor = tf.keras.Model(inputs, preprocessed_result)"
   ]
  },
  {
   "cell_type": "code",
   "execution_count": 48,
   "id": "48279aff-3977-400c-96d6-bb5bfcc73112",
   "metadata": {},
   "outputs": [
    {
     "name": "stdout",
     "output_type": "stream",
     "text": [
      "You must install pydot (`pip install pydot`) for `plot_model` to work.\n"
     ]
    }
   ],
   "source": [
    "#!pip install pydot\n",
    "tf.keras.utils.plot_model(preprocessor, rankdir=\"LR\", show_shapes=True,  show_layer_names=True)"
   ]
  },
  {
   "cell_type": "code",
   "execution_count": 49,
   "id": "8ea61e32-7213-4254-bc94-553ba4cfa22c",
   "metadata": {},
   "outputs": [
    {
     "data": {
      "text/plain": [
       "<tf.Tensor: shape=(1, 33), dtype=float32, numpy=\n",
       "array([[  1.       ,   1.       ,   0.       ,   0.93384  ,  -1.8534899,\n",
       "        123.75735  ,   3.6224306,  -7.3077087,   0.       ,   0.       ,\n",
       "          1.       ,   0.       ,   0.       ,   0.       ,   0.       ,\n",
       "          0.       ,   0.       ,   1.       ,   0.       ,   0.       ,\n",
       "          0.       ,   1.       ,   0.       ,   0.       ,   0.       ,\n",
       "          1.       ,   0.       ,   0.       ,   0.       ,   1.       ,\n",
       "          0.       ,   0.       ,   0.       ]], dtype=float32)>"
      ]
     },
     "execution_count": 49,
     "metadata": {},
     "output_type": "execute_result"
    }
   ],
   "source": [
    "preprocessor(dict(df.iloc[:1]))"
   ]
  },
  {
   "cell_type": "code",
   "execution_count": 50,
   "id": "96cbf2ba-d215-4e6c-a72b-b2a0d01a6bd9",
   "metadata": {},
   "outputs": [],
   "source": [
    "body = tf.keras.Sequential([\n",
    "  tf.keras.layers.Dense(10, activation='relu'),\n",
    "  tf.keras.layers.Dense(10, activation='relu'),\n",
    "  tf.keras.layers.Dense(1)\n",
    "])"
   ]
  },
  {
   "cell_type": "code",
   "execution_count": 51,
   "id": "5b2957c3-66fc-41fb-bc9d-17e85acd8963",
   "metadata": {},
   "outputs": [
    {
     "data": {
      "text/plain": [
       "{'age': <KerasTensor shape=(None, 1), dtype=float32, sparse=False, ragged=False, name=age>,\n",
       " 'sex': <KerasTensor shape=(None, 1), dtype=int64, sparse=False, ragged=False, name=sex>,\n",
       " 'cp': <KerasTensor shape=(None, 1), dtype=int64, sparse=False, ragged=False, name=cp>,\n",
       " 'trestbps': <KerasTensor shape=(None, 1), dtype=float32, sparse=False, ragged=False, name=trestbps>,\n",
       " 'chol': <KerasTensor shape=(None, 1), dtype=float32, sparse=False, ragged=False, name=chol>,\n",
       " 'fbs': <KerasTensor shape=(None, 1), dtype=int64, sparse=False, ragged=False, name=fbs>,\n",
       " 'restecg': <KerasTensor shape=(None, 1), dtype=int64, sparse=False, ragged=False, name=restecg>,\n",
       " 'thalach': <KerasTensor shape=(None, 1), dtype=float32, sparse=False, ragged=False, name=thalach>,\n",
       " 'exang': <KerasTensor shape=(None, 1), dtype=int64, sparse=False, ragged=False, name=exang>,\n",
       " 'oldpeak': <KerasTensor shape=(None, 1), dtype=float32, sparse=False, ragged=False, name=oldpeak>,\n",
       " 'slope': <KerasTensor shape=(None, 1), dtype=int64, sparse=False, ragged=False, name=slope>,\n",
       " 'ca': <KerasTensor shape=(None, 1), dtype=int64, sparse=False, ragged=False, name=ca>,\n",
       " 'thal': <KerasTensor shape=(None, 1), dtype=string, sparse=False, ragged=False, name=thal>}"
      ]
     },
     "execution_count": 51,
     "metadata": {},
     "output_type": "execute_result"
    }
   ],
   "source": [
    "inputs"
   ]
  },
  {
   "cell_type": "code",
   "execution_count": 52,
   "id": "4c2f02d9-271c-4655-9783-f7ecd20dd956",
   "metadata": {},
   "outputs": [
    {
     "data": {
      "text/plain": [
       "<KerasTensor shape=(None, 33), dtype=float32, sparse=False, ragged=False, name=keras_tensor_29>"
      ]
     },
     "execution_count": 52,
     "metadata": {},
     "output_type": "execute_result"
    }
   ],
   "source": [
    "x = preprocessor(inputs)\n",
    "x"
   ]
  },
  {
   "cell_type": "code",
   "execution_count": 53,
   "id": "364a14fa-2cf1-495e-83bf-224e110129a0",
   "metadata": {},
   "outputs": [
    {
     "data": {
      "text/plain": [
       "<KerasTensor shape=(None, 1), dtype=float32, sparse=False, ragged=False, name=keras_tensor_34>"
      ]
     },
     "execution_count": 53,
     "metadata": {},
     "output_type": "execute_result"
    }
   ],
   "source": [
    "result = body(x)\n",
    "result"
   ]
  },
  {
   "cell_type": "code",
   "execution_count": 54,
   "id": "f44b27c9-7c7b-4695-8a32-2025d89fba73",
   "metadata": {},
   "outputs": [],
   "source": [
    "model = tf.keras.Model(inputs, result)\n",
    "\n",
    "model.compile(optimizer='adam',\n",
    "                loss=tf.keras.losses.BinaryCrossentropy(from_logits=True),\n",
    "                metrics=['accuracy'])"
   ]
  },
  {
   "cell_type": "code",
   "execution_count": 55,
   "id": "97a5bb42-c1b7-4d07-a0f2-d3e110ef20f1",
   "metadata": {},
   "outputs": [
    {
     "name": "stdout",
     "output_type": "stream",
     "text": [
      "You must install pydot (`pip install pydot`) for `plot_model` to work.\n"
     ]
    }
   ],
   "source": [
    "tf.keras.utils.plot_model(model, show_shapes=True,  show_layer_names=True)"
   ]
  },
  {
   "cell_type": "code",
   "execution_count": 57,
   "id": "d37ca625-40be-49e6-bb41-7a6e80d3af38",
   "metadata": {},
   "outputs": [],
   "source": [
    "ds = tf.data.Dataset.from_tensor_slices((\n",
    "    dict(df),\n",
    "    target\n",
    "))\n",
    "\n",
    "ds = ds.batch(BATCH_SIZE)\n"
   ]
  },
  {
   "cell_type": "code",
   "execution_count": 58,
   "id": "21c9aa9c-c79f-4523-90d3-e57d9844f5af",
   "metadata": {},
   "outputs": [
    {
     "name": "stdout",
     "output_type": "stream",
     "text": [
      "{'age': <tf.Tensor: shape=(2,), dtype=int64, numpy=array([63, 67])>,\n",
      " 'ca': <tf.Tensor: shape=(2,), dtype=int64, numpy=array([0, 3])>,\n",
      " 'chol': <tf.Tensor: shape=(2,), dtype=int64, numpy=array([233, 286])>,\n",
      " 'cp': <tf.Tensor: shape=(2,), dtype=int64, numpy=array([1, 4])>,\n",
      " 'exang': <tf.Tensor: shape=(2,), dtype=int64, numpy=array([0, 1])>,\n",
      " 'fbs': <tf.Tensor: shape=(2,), dtype=int64, numpy=array([1, 0])>,\n",
      " 'oldpeak': <tf.Tensor: shape=(2,), dtype=float64, numpy=array([2.3, 1.5])>,\n",
      " 'restecg': <tf.Tensor: shape=(2,), dtype=int64, numpy=array([2, 2])>,\n",
      " 'sex': <tf.Tensor: shape=(2,), dtype=int64, numpy=array([1, 1])>,\n",
      " 'slope': <tf.Tensor: shape=(2,), dtype=int64, numpy=array([3, 2])>,\n",
      " 'thal': <tf.Tensor: shape=(2,), dtype=string, numpy=array([b'fixed', b'normal'], dtype=object)>,\n",
      " 'thalach': <tf.Tensor: shape=(2,), dtype=int64, numpy=array([150, 108])>,\n",
      " 'trestbps': <tf.Tensor: shape=(2,), dtype=int64, numpy=array([145, 160])>}\n",
      "\n",
      "tf.Tensor([0 1], shape=(2,), dtype=int64)\n"
     ]
    }
   ],
   "source": [
    "import pprint\n",
    "\n",
    "for x, y in ds.take(1):\n",
    "  pprint.pprint(x)\n",
    "  print()\n",
    "  print(y)"
   ]
  },
  {
   "cell_type": "code",
   "execution_count": null,
   "id": "ad93535e-99bc-4b1a-bb36-99bc6e76c6d5",
   "metadata": {},
   "outputs": [],
   "source": []
  }
 ],
 "metadata": {
  "kernelspec": {
   "display_name": "Python [conda env:base] *",
   "language": "python",
   "name": "conda-base-py"
  },
  "language_info": {
   "codemirror_mode": {
    "name": "ipython",
    "version": 3
   },
   "file_extension": ".py",
   "mimetype": "text/x-python",
   "name": "python",
   "nbconvert_exporter": "python",
   "pygments_lexer": "ipython3",
   "version": "3.13.5"
  }
 },
 "nbformat": 4,
 "nbformat_minor": 5
}
